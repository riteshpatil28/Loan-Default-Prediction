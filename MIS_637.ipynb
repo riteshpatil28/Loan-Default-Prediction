{
 "cells": [
  {
   "cell_type": "code",
   "execution_count": 1,
   "metadata": {
    "id": "rgvJ68zVc4qP"
   },
   "outputs": [],
   "source": [
    "import matplotlib.pyplot as plt\n",
    "import seaborn as sns\n",
    "import pandas as pd\n",
    "import numpy as np\n",
    "from sklearn.model_selection import train_test_split\n",
    "from sklearn.preprocessing import StandardScaler\n",
    "from sklearn.neighbors import KNeighborsClassifier\n",
    "from sklearn.metrics import confusion_matrix\n",
    "from sklearn.cluster import KMeans\n",
    "import matplotlib.pyplot as plt\n",
    "from sklearn.metrics import precision_score, recall_score, f1_score\n",
    "\n",
    "# suppress all warnings\n",
    "import warnings\n",
    "warnings.filterwarnings('ignore')"
   ]
  },
  {
   "cell_type": "code",
   "execution_count": 2,
   "metadata": {
    "colab": {
     "base_uri": "https://localhost:8080/",
     "height": 508
    },
    "id": "RDmukaVae5Bq",
    "outputId": "95e773d1-ace7-42b3-b7cb-9d31cce26fa8"
   },
   "outputs": [
    {
     "data": {
      "text/html": [
       "<div>\n",
       "<style scoped>\n",
       "    .dataframe tbody tr th:only-of-type {\n",
       "        vertical-align: middle;\n",
       "    }\n",
       "\n",
       "    .dataframe tbody tr th {\n",
       "        vertical-align: top;\n",
       "    }\n",
       "\n",
       "    .dataframe thead th {\n",
       "        text-align: right;\n",
       "    }\n",
       "</style>\n",
       "<table border=\"1\" class=\"dataframe\">\n",
       "  <thead>\n",
       "    <tr style=\"text-align: right;\">\n",
       "      <th></th>\n",
       "      <th>ID</th>\n",
       "      <th>Loan Amount</th>\n",
       "      <th>Funded Amount</th>\n",
       "      <th>Funded Amount Investor</th>\n",
       "      <th>Term</th>\n",
       "      <th>Batch Enrolled</th>\n",
       "      <th>Interest Rate</th>\n",
       "      <th>Grade</th>\n",
       "      <th>Sub Grade</th>\n",
       "      <th>Employment Duration</th>\n",
       "      <th>...</th>\n",
       "      <th>Recoveries</th>\n",
       "      <th>Collection Recovery Fee</th>\n",
       "      <th>Collection 12 months Medical</th>\n",
       "      <th>Application Type</th>\n",
       "      <th>Last week Pay</th>\n",
       "      <th>Accounts Delinquent</th>\n",
       "      <th>Total Collection Amount</th>\n",
       "      <th>Total Current Balance</th>\n",
       "      <th>Total Revolving Credit Limit</th>\n",
       "      <th>Loan Status</th>\n",
       "    </tr>\n",
       "  </thead>\n",
       "  <tbody>\n",
       "    <tr>\n",
       "      <th>0</th>\n",
       "      <td>65087372</td>\n",
       "      <td>10000</td>\n",
       "      <td>32236</td>\n",
       "      <td>12329.362860</td>\n",
       "      <td>59</td>\n",
       "      <td>BAT2522922</td>\n",
       "      <td>11.135007</td>\n",
       "      <td>B</td>\n",
       "      <td>C4</td>\n",
       "      <td>MORTGAGE</td>\n",
       "      <td>...</td>\n",
       "      <td>2.498291</td>\n",
       "      <td>0.793724</td>\n",
       "      <td>0</td>\n",
       "      <td>INDIVIDUAL</td>\n",
       "      <td>49</td>\n",
       "      <td>0</td>\n",
       "      <td>31</td>\n",
       "      <td>311301</td>\n",
       "      <td>6619</td>\n",
       "      <td>0</td>\n",
       "    </tr>\n",
       "    <tr>\n",
       "      <th>1</th>\n",
       "      <td>1450153</td>\n",
       "      <td>3609</td>\n",
       "      <td>11940</td>\n",
       "      <td>12191.996920</td>\n",
       "      <td>59</td>\n",
       "      <td>BAT1586599</td>\n",
       "      <td>12.237563</td>\n",
       "      <td>C</td>\n",
       "      <td>D3</td>\n",
       "      <td>RENT</td>\n",
       "      <td>...</td>\n",
       "      <td>2.377215</td>\n",
       "      <td>0.974821</td>\n",
       "      <td>0</td>\n",
       "      <td>INDIVIDUAL</td>\n",
       "      <td>109</td>\n",
       "      <td>0</td>\n",
       "      <td>53</td>\n",
       "      <td>182610</td>\n",
       "      <td>20885</td>\n",
       "      <td>0</td>\n",
       "    </tr>\n",
       "    <tr>\n",
       "      <th>2</th>\n",
       "      <td>1969101</td>\n",
       "      <td>28276</td>\n",
       "      <td>9311</td>\n",
       "      <td>21603.224550</td>\n",
       "      <td>59</td>\n",
       "      <td>BAT2136391</td>\n",
       "      <td>12.545884</td>\n",
       "      <td>F</td>\n",
       "      <td>D4</td>\n",
       "      <td>MORTGAGE</td>\n",
       "      <td>...</td>\n",
       "      <td>4.316277</td>\n",
       "      <td>1.020075</td>\n",
       "      <td>0</td>\n",
       "      <td>INDIVIDUAL</td>\n",
       "      <td>66</td>\n",
       "      <td>0</td>\n",
       "      <td>34</td>\n",
       "      <td>89801</td>\n",
       "      <td>26155</td>\n",
       "      <td>0</td>\n",
       "    </tr>\n",
       "    <tr>\n",
       "      <th>3</th>\n",
       "      <td>6651430</td>\n",
       "      <td>11170</td>\n",
       "      <td>6954</td>\n",
       "      <td>17877.155850</td>\n",
       "      <td>59</td>\n",
       "      <td>BAT2428731</td>\n",
       "      <td>16.731201</td>\n",
       "      <td>C</td>\n",
       "      <td>C3</td>\n",
       "      <td>MORTGAGE</td>\n",
       "      <td>...</td>\n",
       "      <td>0.107020</td>\n",
       "      <td>0.749971</td>\n",
       "      <td>0</td>\n",
       "      <td>INDIVIDUAL</td>\n",
       "      <td>39</td>\n",
       "      <td>0</td>\n",
       "      <td>40</td>\n",
       "      <td>9189</td>\n",
       "      <td>60214</td>\n",
       "      <td>0</td>\n",
       "    </tr>\n",
       "    <tr>\n",
       "      <th>4</th>\n",
       "      <td>14354669</td>\n",
       "      <td>16890</td>\n",
       "      <td>13226</td>\n",
       "      <td>13539.926670</td>\n",
       "      <td>59</td>\n",
       "      <td>BAT5341619</td>\n",
       "      <td>15.008300</td>\n",
       "      <td>C</td>\n",
       "      <td>D4</td>\n",
       "      <td>MORTGAGE</td>\n",
       "      <td>...</td>\n",
       "      <td>1294.818751</td>\n",
       "      <td>0.368953</td>\n",
       "      <td>0</td>\n",
       "      <td>INDIVIDUAL</td>\n",
       "      <td>18</td>\n",
       "      <td>0</td>\n",
       "      <td>430</td>\n",
       "      <td>126029</td>\n",
       "      <td>22579</td>\n",
       "      <td>0</td>\n",
       "    </tr>\n",
       "    <tr>\n",
       "      <th>5</th>\n",
       "      <td>50509046</td>\n",
       "      <td>34631</td>\n",
       "      <td>30203</td>\n",
       "      <td>8635.931613</td>\n",
       "      <td>36</td>\n",
       "      <td>BAT4694572</td>\n",
       "      <td>17.246986</td>\n",
       "      <td>B</td>\n",
       "      <td>G5</td>\n",
       "      <td>RENT</td>\n",
       "      <td>...</td>\n",
       "      <td>5.043575</td>\n",
       "      <td>0.581688</td>\n",
       "      <td>0</td>\n",
       "      <td>INDIVIDUAL</td>\n",
       "      <td>32</td>\n",
       "      <td>0</td>\n",
       "      <td>42</td>\n",
       "      <td>51252</td>\n",
       "      <td>27480</td>\n",
       "      <td>0</td>\n",
       "    </tr>\n",
       "    <tr>\n",
       "      <th>6</th>\n",
       "      <td>32737431</td>\n",
       "      <td>30844</td>\n",
       "      <td>19773</td>\n",
       "      <td>15777.511830</td>\n",
       "      <td>59</td>\n",
       "      <td>BAT4808022</td>\n",
       "      <td>10.731432</td>\n",
       "      <td>C</td>\n",
       "      <td>C5</td>\n",
       "      <td>RENT</td>\n",
       "      <td>...</td>\n",
       "      <td>3.167937</td>\n",
       "      <td>0.553076</td>\n",
       "      <td>0</td>\n",
       "      <td>INDIVIDUAL</td>\n",
       "      <td>71</td>\n",
       "      <td>0</td>\n",
       "      <td>3388</td>\n",
       "      <td>42069</td>\n",
       "      <td>31068</td>\n",
       "      <td>0</td>\n",
       "    </tr>\n",
       "    <tr>\n",
       "      <th>7</th>\n",
       "      <td>63151650</td>\n",
       "      <td>20744</td>\n",
       "      <td>10609</td>\n",
       "      <td>7645.014802</td>\n",
       "      <td>58</td>\n",
       "      <td>BAT2558388</td>\n",
       "      <td>13.993688</td>\n",
       "      <td>A</td>\n",
       "      <td>A5</td>\n",
       "      <td>OWN</td>\n",
       "      <td>...</td>\n",
       "      <td>0.098448</td>\n",
       "      <td>0.047589</td>\n",
       "      <td>0</td>\n",
       "      <td>INDIVIDUAL</td>\n",
       "      <td>87</td>\n",
       "      <td>0</td>\n",
       "      <td>48</td>\n",
       "      <td>184909</td>\n",
       "      <td>43303</td>\n",
       "      <td>0</td>\n",
       "    </tr>\n",
       "    <tr>\n",
       "      <th>8</th>\n",
       "      <td>4279662</td>\n",
       "      <td>9299</td>\n",
       "      <td>11238</td>\n",
       "      <td>13429.456610</td>\n",
       "      <td>59</td>\n",
       "      <td>BAT5341619</td>\n",
       "      <td>11.178457</td>\n",
       "      <td>G</td>\n",
       "      <td>C2</td>\n",
       "      <td>MORTGAGE</td>\n",
       "      <td>...</td>\n",
       "      <td>0.530214</td>\n",
       "      <td>0.216985</td>\n",
       "      <td>0</td>\n",
       "      <td>INDIVIDUAL</td>\n",
       "      <td>144</td>\n",
       "      <td>0</td>\n",
       "      <td>26</td>\n",
       "      <td>68126</td>\n",
       "      <td>7482</td>\n",
       "      <td>0</td>\n",
       "    </tr>\n",
       "    <tr>\n",
       "      <th>9</th>\n",
       "      <td>4431034</td>\n",
       "      <td>19232</td>\n",
       "      <td>8962</td>\n",
       "      <td>7004.097481</td>\n",
       "      <td>58</td>\n",
       "      <td>BAT2078974</td>\n",
       "      <td>5.520413</td>\n",
       "      <td>C</td>\n",
       "      <td>B5</td>\n",
       "      <td>RENT</td>\n",
       "      <td>...</td>\n",
       "      <td>2.912215</td>\n",
       "      <td>0.886864</td>\n",
       "      <td>0</td>\n",
       "      <td>INDIVIDUAL</td>\n",
       "      <td>9</td>\n",
       "      <td>0</td>\n",
       "      <td>35</td>\n",
       "      <td>71650</td>\n",
       "      <td>14871</td>\n",
       "      <td>0</td>\n",
       "    </tr>\n",
       "  </tbody>\n",
       "</table>\n",
       "<p>10 rows × 35 columns</p>\n",
       "</div>"
      ],
      "text/plain": [
       "         ID  Loan Amount  Funded Amount  Funded Amount Investor  Term  \\\n",
       "0  65087372        10000          32236            12329.362860    59   \n",
       "1   1450153         3609          11940            12191.996920    59   \n",
       "2   1969101        28276           9311            21603.224550    59   \n",
       "3   6651430        11170           6954            17877.155850    59   \n",
       "4  14354669        16890          13226            13539.926670    59   \n",
       "5  50509046        34631          30203             8635.931613    36   \n",
       "6  32737431        30844          19773            15777.511830    59   \n",
       "7  63151650        20744          10609             7645.014802    58   \n",
       "8   4279662         9299          11238            13429.456610    59   \n",
       "9   4431034        19232           8962             7004.097481    58   \n",
       "\n",
       "  Batch Enrolled  Interest Rate Grade Sub Grade Employment Duration  ...  \\\n",
       "0     BAT2522922      11.135007     B        C4            MORTGAGE  ...   \n",
       "1     BAT1586599      12.237563     C        D3                RENT  ...   \n",
       "2     BAT2136391      12.545884     F        D4            MORTGAGE  ...   \n",
       "3     BAT2428731      16.731201     C        C3            MORTGAGE  ...   \n",
       "4     BAT5341619      15.008300     C        D4            MORTGAGE  ...   \n",
       "5     BAT4694572      17.246986     B        G5                RENT  ...   \n",
       "6     BAT4808022      10.731432     C        C5                RENT  ...   \n",
       "7     BAT2558388      13.993688     A        A5                 OWN  ...   \n",
       "8     BAT5341619      11.178457     G        C2            MORTGAGE  ...   \n",
       "9     BAT2078974       5.520413     C        B5                RENT  ...   \n",
       "\n",
       "    Recoveries Collection Recovery Fee Collection 12 months Medical  \\\n",
       "0     2.498291                0.793724                            0   \n",
       "1     2.377215                0.974821                            0   \n",
       "2     4.316277                1.020075                            0   \n",
       "3     0.107020                0.749971                            0   \n",
       "4  1294.818751                0.368953                            0   \n",
       "5     5.043575                0.581688                            0   \n",
       "6     3.167937                0.553076                            0   \n",
       "7     0.098448                0.047589                            0   \n",
       "8     0.530214                0.216985                            0   \n",
       "9     2.912215                0.886864                            0   \n",
       "\n",
       "  Application Type  Last week Pay  Accounts Delinquent  \\\n",
       "0       INDIVIDUAL             49                    0   \n",
       "1       INDIVIDUAL            109                    0   \n",
       "2       INDIVIDUAL             66                    0   \n",
       "3       INDIVIDUAL             39                    0   \n",
       "4       INDIVIDUAL             18                    0   \n",
       "5       INDIVIDUAL             32                    0   \n",
       "6       INDIVIDUAL             71                    0   \n",
       "7       INDIVIDUAL             87                    0   \n",
       "8       INDIVIDUAL            144                    0   \n",
       "9       INDIVIDUAL              9                    0   \n",
       "\n",
       "   Total Collection Amount  Total Current Balance  \\\n",
       "0                       31                 311301   \n",
       "1                       53                 182610   \n",
       "2                       34                  89801   \n",
       "3                       40                   9189   \n",
       "4                      430                 126029   \n",
       "5                       42                  51252   \n",
       "6                     3388                  42069   \n",
       "7                       48                 184909   \n",
       "8                       26                  68126   \n",
       "9                       35                  71650   \n",
       "\n",
       "   Total Revolving Credit Limit  Loan Status  \n",
       "0                          6619            0  \n",
       "1                         20885            0  \n",
       "2                         26155            0  \n",
       "3                         60214            0  \n",
       "4                         22579            0  \n",
       "5                         27480            0  \n",
       "6                         31068            0  \n",
       "7                         43303            0  \n",
       "8                          7482            0  \n",
       "9                         14871            0  \n",
       "\n",
       "[10 rows x 35 columns]"
      ]
     },
     "execution_count": 2,
     "metadata": {},
     "output_type": "execute_result"
    }
   ],
   "source": [
    "df1 = pd.read_csv('train.csv')\n",
    "df1.head(10)"
   ]
  },
  {
   "cell_type": "code",
   "execution_count": 3,
   "metadata": {
    "colab": {
     "base_uri": "https://localhost:8080/"
    },
    "id": "FAbbKo6NfIJ2",
    "outputId": "107b3a32-fdd4-4c4a-f695-4926eb431c4a"
   },
   "outputs": [
    {
     "name": "stdout",
     "output_type": "stream",
     "text": [
      "<class 'pandas.core.frame.DataFrame'>\n",
      "RangeIndex: 67463 entries, 0 to 67462\n",
      "Data columns (total 35 columns):\n",
      " #   Column                        Non-Null Count  Dtype  \n",
      "---  ------                        --------------  -----  \n",
      " 0   ID                            67463 non-null  int64  \n",
      " 1   Loan Amount                   67463 non-null  int64  \n",
      " 2   Funded Amount                 67463 non-null  int64  \n",
      " 3   Funded Amount Investor        67463 non-null  float64\n",
      " 4   Term                          67463 non-null  int64  \n",
      " 5   Batch Enrolled                67463 non-null  object \n",
      " 6   Interest Rate                 67463 non-null  float64\n",
      " 7   Grade                         67463 non-null  object \n",
      " 8   Sub Grade                     67463 non-null  object \n",
      " 9   Employment Duration           67463 non-null  object \n",
      " 10  Home Ownership                67463 non-null  float64\n",
      " 11  Verification Status           67463 non-null  object \n",
      " 12  Payment Plan                  67463 non-null  object \n",
      " 13  Loan Title                    67463 non-null  object \n",
      " 14  Debit to Income               67463 non-null  float64\n",
      " 15  Delinquency - two years       67463 non-null  int64  \n",
      " 16  Inquires - six months         67463 non-null  int64  \n",
      " 17  Open Account                  67463 non-null  int64  \n",
      " 18  Public Record                 67463 non-null  int64  \n",
      " 19  Revolving Balance             67463 non-null  int64  \n",
      " 20  Revolving Utilities           67463 non-null  float64\n",
      " 21  Total Accounts                67463 non-null  int64  \n",
      " 22  Initial List Status           67463 non-null  object \n",
      " 23  Total Received Interest       67463 non-null  float64\n",
      " 24  Total Received Late Fee       67463 non-null  float64\n",
      " 25  Recoveries                    67463 non-null  float64\n",
      " 26  Collection Recovery Fee       67463 non-null  float64\n",
      " 27  Collection 12 months Medical  67463 non-null  int64  \n",
      " 28  Application Type              67463 non-null  object \n",
      " 29  Last week Pay                 67463 non-null  int64  \n",
      " 30  Accounts Delinquent           67463 non-null  int64  \n",
      " 31  Total Collection Amount       67463 non-null  int64  \n",
      " 32  Total Current Balance         67463 non-null  int64  \n",
      " 33  Total Revolving Credit Limit  67463 non-null  int64  \n",
      " 34  Loan Status                   67463 non-null  int64  \n",
      "dtypes: float64(9), int64(17), object(9)\n",
      "memory usage: 18.0+ MB\n"
     ]
    }
   ],
   "source": [
    "# Checking the missing value\n",
    "df1.info()"
   ]
  },
  {
   "cell_type": "code",
   "execution_count": 4,
   "metadata": {
    "id": "5LVmU4OBfLOD"
   },
   "outputs": [],
   "source": [
    "# The data does not have null data. \n",
    "# And this is a classification task to predict whether a person will be a loan defaulter.\n",
    "train_n = []\n",
    "train_c = []\n",
    "for i in df1.columns:\n",
    "  if df1[i].dtype != 'object':\n",
    "    train_n.append(i)\n",
    "  else:\n",
    "    train_c.append(i)\n",
    "\n",
    "#df_train_n contains numerical features\n",
    "#df_train_c contains categorical features\n",
    "df_train_n = df1[train_n]\n",
    "df_train_c = df1[train_c] "
   ]
  },
  {
   "cell_type": "code",
   "execution_count": 5,
   "metadata": {
    "colab": {
     "base_uri": "https://localhost:8080/"
    },
    "id": "jrqKHfoKAWfi",
    "outputId": "ee2fd04f-08b1-41d2-bdd1-f6e381474f92"
   },
   "outputs": [
    {
     "data": {
      "text/plain": [
       "ID                              67463\n",
       "Loan Amount                     27525\n",
       "Funded Amount                   24548\n",
       "Funded Amount Investor          67441\n",
       "Term                                3\n",
       "Interest Rate                   67448\n",
       "Home Ownership                  67454\n",
       "Debit to Income                 67454\n",
       "Delinquency - two years             9\n",
       "Inquires - six months               6\n",
       "Open Account                       36\n",
       "Public Record                       5\n",
       "Revolving Balance               20582\n",
       "Revolving Utilities             67458\n",
       "Total Accounts                     69\n",
       "Total Received Interest         67451\n",
       "Total Received Late Fee         67380\n",
       "Recoveries                      67387\n",
       "Collection Recovery Fee         67313\n",
       "Collection 12 months Medical        2\n",
       "Last week Pay                     162\n",
       "Accounts Delinquent                 1\n",
       "Total Collection Amount          2193\n",
       "Total Current Balance           60901\n",
       "Total Revolving Credit Limit    37708\n",
       "Loan Status                         2\n",
       "dtype: int64"
      ]
     },
     "execution_count": 5,
     "metadata": {},
     "output_type": "execute_result"
    }
   ],
   "source": [
    "df_train_n.nunique()"
   ]
  },
  {
   "cell_type": "code",
   "execution_count": 6,
   "metadata": {
    "colab": {
     "base_uri": "https://localhost:8080/",
     "height": 428
    },
    "id": "BZEX8fqwvcYn",
    "outputId": "8ae5b103-238f-4e75-b124-5339d6b47444"
   },
   "outputs": [
    {
     "data": {
      "text/html": [
       "<div>\n",
       "<style scoped>\n",
       "    .dataframe tbody tr th:only-of-type {\n",
       "        vertical-align: middle;\n",
       "    }\n",
       "\n",
       "    .dataframe tbody tr th {\n",
       "        vertical-align: top;\n",
       "    }\n",
       "\n",
       "    .dataframe thead th {\n",
       "        text-align: right;\n",
       "    }\n",
       "</style>\n",
       "<table border=\"1\" class=\"dataframe\">\n",
       "  <thead>\n",
       "    <tr style=\"text-align: right;\">\n",
       "      <th></th>\n",
       "      <th>ID</th>\n",
       "      <th>Loan Amount</th>\n",
       "      <th>Funded Amount</th>\n",
       "      <th>Funded Amount Investor</th>\n",
       "      <th>Term</th>\n",
       "      <th>Interest Rate</th>\n",
       "      <th>Home Ownership</th>\n",
       "      <th>Debit to Income</th>\n",
       "      <th>Delinquency - two years</th>\n",
       "      <th>Inquires - six months</th>\n",
       "      <th>...</th>\n",
       "      <th>Total Received Late Fee</th>\n",
       "      <th>Recoveries</th>\n",
       "      <th>Collection Recovery Fee</th>\n",
       "      <th>Collection 12 months Medical</th>\n",
       "      <th>Last week Pay</th>\n",
       "      <th>Accounts Delinquent</th>\n",
       "      <th>Total Collection Amount</th>\n",
       "      <th>Total Current Balance</th>\n",
       "      <th>Total Revolving Credit Limit</th>\n",
       "      <th>Loan Status</th>\n",
       "    </tr>\n",
       "  </thead>\n",
       "  <tbody>\n",
       "    <tr>\n",
       "      <th>count</th>\n",
       "      <td>6.746300e+04</td>\n",
       "      <td>67463.000000</td>\n",
       "      <td>67463.000000</td>\n",
       "      <td>67463.000000</td>\n",
       "      <td>67463.000000</td>\n",
       "      <td>67463.000000</td>\n",
       "      <td>67463.000000</td>\n",
       "      <td>67463.000000</td>\n",
       "      <td>67463.000000</td>\n",
       "      <td>67463.000000</td>\n",
       "      <td>...</td>\n",
       "      <td>67463.000000</td>\n",
       "      <td>67463.000000</td>\n",
       "      <td>67463.000000</td>\n",
       "      <td>67463.000000</td>\n",
       "      <td>67463.000000</td>\n",
       "      <td>67463.0</td>\n",
       "      <td>67463.000000</td>\n",
       "      <td>6.746300e+04</td>\n",
       "      <td>67463.000000</td>\n",
       "      <td>67463.000000</td>\n",
       "    </tr>\n",
       "    <tr>\n",
       "      <th>mean</th>\n",
       "      <td>2.562761e+07</td>\n",
       "      <td>16848.902776</td>\n",
       "      <td>15770.599114</td>\n",
       "      <td>14621.799323</td>\n",
       "      <td>58.173814</td>\n",
       "      <td>11.846258</td>\n",
       "      <td>80541.502522</td>\n",
       "      <td>23.299241</td>\n",
       "      <td>0.327127</td>\n",
       "      <td>0.145754</td>\n",
       "      <td>...</td>\n",
       "      <td>1.143969</td>\n",
       "      <td>59.691578</td>\n",
       "      <td>1.125141</td>\n",
       "      <td>0.021301</td>\n",
       "      <td>71.163260</td>\n",
       "      <td>0.0</td>\n",
       "      <td>146.467990</td>\n",
       "      <td>1.595739e+05</td>\n",
       "      <td>23123.005544</td>\n",
       "      <td>0.092510</td>\n",
       "    </tr>\n",
       "    <tr>\n",
       "      <th>std</th>\n",
       "      <td>2.109155e+07</td>\n",
       "      <td>8367.865726</td>\n",
       "      <td>8150.992662</td>\n",
       "      <td>6785.345170</td>\n",
       "      <td>3.327441</td>\n",
       "      <td>3.718629</td>\n",
       "      <td>45029.120366</td>\n",
       "      <td>8.451824</td>\n",
       "      <td>0.800888</td>\n",
       "      <td>0.473291</td>\n",
       "      <td>...</td>\n",
       "      <td>5.244365</td>\n",
       "      <td>357.026346</td>\n",
       "      <td>3.489885</td>\n",
       "      <td>0.144385</td>\n",
       "      <td>43.315845</td>\n",
       "      <td>0.0</td>\n",
       "      <td>744.382233</td>\n",
       "      <td>1.390332e+05</td>\n",
       "      <td>20916.699999</td>\n",
       "      <td>0.289747</td>\n",
       "    </tr>\n",
       "    <tr>\n",
       "      <th>min</th>\n",
       "      <td>1.297933e+06</td>\n",
       "      <td>1014.000000</td>\n",
       "      <td>1014.000000</td>\n",
       "      <td>1114.590204</td>\n",
       "      <td>36.000000</td>\n",
       "      <td>5.320006</td>\n",
       "      <td>14573.537170</td>\n",
       "      <td>0.675299</td>\n",
       "      <td>0.000000</td>\n",
       "      <td>0.000000</td>\n",
       "      <td>...</td>\n",
       "      <td>0.000003</td>\n",
       "      <td>0.000036</td>\n",
       "      <td>0.000036</td>\n",
       "      <td>0.000000</td>\n",
       "      <td>0.000000</td>\n",
       "      <td>0.0</td>\n",
       "      <td>1.000000</td>\n",
       "      <td>6.170000e+02</td>\n",
       "      <td>1000.000000</td>\n",
       "      <td>0.000000</td>\n",
       "    </tr>\n",
       "    <tr>\n",
       "      <th>25%</th>\n",
       "      <td>6.570288e+06</td>\n",
       "      <td>10012.000000</td>\n",
       "      <td>9266.500000</td>\n",
       "      <td>9831.684984</td>\n",
       "      <td>58.000000</td>\n",
       "      <td>9.297147</td>\n",
       "      <td>51689.843335</td>\n",
       "      <td>16.756416</td>\n",
       "      <td>0.000000</td>\n",
       "      <td>0.000000</td>\n",
       "      <td>...</td>\n",
       "      <td>0.021114</td>\n",
       "      <td>1.629818</td>\n",
       "      <td>0.476259</td>\n",
       "      <td>0.000000</td>\n",
       "      <td>35.000000</td>\n",
       "      <td>0.0</td>\n",
       "      <td>24.000000</td>\n",
       "      <td>5.037900e+04</td>\n",
       "      <td>8155.500000</td>\n",
       "      <td>0.000000</td>\n",
       "    </tr>\n",
       "    <tr>\n",
       "      <th>50%</th>\n",
       "      <td>1.791565e+07</td>\n",
       "      <td>16073.000000</td>\n",
       "      <td>13042.000000</td>\n",
       "      <td>12793.682170</td>\n",
       "      <td>59.000000</td>\n",
       "      <td>11.377696</td>\n",
       "      <td>69335.832680</td>\n",
       "      <td>22.656658</td>\n",
       "      <td>0.000000</td>\n",
       "      <td>0.000000</td>\n",
       "      <td>...</td>\n",
       "      <td>0.043398</td>\n",
       "      <td>3.344524</td>\n",
       "      <td>0.780141</td>\n",
       "      <td>0.000000</td>\n",
       "      <td>68.000000</td>\n",
       "      <td>0.0</td>\n",
       "      <td>36.000000</td>\n",
       "      <td>1.183690e+05</td>\n",
       "      <td>16733.000000</td>\n",
       "      <td>0.000000</td>\n",
       "    </tr>\n",
       "    <tr>\n",
       "      <th>75%</th>\n",
       "      <td>4.271521e+07</td>\n",
       "      <td>22106.000000</td>\n",
       "      <td>21793.000000</td>\n",
       "      <td>17807.594120</td>\n",
       "      <td>59.000000</td>\n",
       "      <td>14.193533</td>\n",
       "      <td>94623.322785</td>\n",
       "      <td>30.048400</td>\n",
       "      <td>0.000000</td>\n",
       "      <td>0.000000</td>\n",
       "      <td>...</td>\n",
       "      <td>0.071884</td>\n",
       "      <td>5.453727</td>\n",
       "      <td>1.070566</td>\n",
       "      <td>0.000000</td>\n",
       "      <td>105.000000</td>\n",
       "      <td>0.0</td>\n",
       "      <td>46.000000</td>\n",
       "      <td>2.283750e+05</td>\n",
       "      <td>32146.500000</td>\n",
       "      <td>0.000000</td>\n",
       "    </tr>\n",
       "    <tr>\n",
       "      <th>max</th>\n",
       "      <td>7.224578e+07</td>\n",
       "      <td>35000.000000</td>\n",
       "      <td>34999.000000</td>\n",
       "      <td>34999.746430</td>\n",
       "      <td>59.000000</td>\n",
       "      <td>27.182348</td>\n",
       "      <td>406561.536400</td>\n",
       "      <td>39.629862</td>\n",
       "      <td>8.000000</td>\n",
       "      <td>5.000000</td>\n",
       "      <td>...</td>\n",
       "      <td>42.618882</td>\n",
       "      <td>4354.467419</td>\n",
       "      <td>166.833000</td>\n",
       "      <td>1.000000</td>\n",
       "      <td>161.000000</td>\n",
       "      <td>0.0</td>\n",
       "      <td>16421.000000</td>\n",
       "      <td>1.177412e+06</td>\n",
       "      <td>201169.000000</td>\n",
       "      <td>1.000000</td>\n",
       "    </tr>\n",
       "  </tbody>\n",
       "</table>\n",
       "<p>8 rows × 26 columns</p>\n",
       "</div>"
      ],
      "text/plain": [
       "                 ID   Loan Amount  Funded Amount  Funded Amount Investor  \\\n",
       "count  6.746300e+04  67463.000000   67463.000000            67463.000000   \n",
       "mean   2.562761e+07  16848.902776   15770.599114            14621.799323   \n",
       "std    2.109155e+07   8367.865726    8150.992662             6785.345170   \n",
       "min    1.297933e+06   1014.000000    1014.000000             1114.590204   \n",
       "25%    6.570288e+06  10012.000000    9266.500000             9831.684984   \n",
       "50%    1.791565e+07  16073.000000   13042.000000            12793.682170   \n",
       "75%    4.271521e+07  22106.000000   21793.000000            17807.594120   \n",
       "max    7.224578e+07  35000.000000   34999.000000            34999.746430   \n",
       "\n",
       "               Term  Interest Rate  Home Ownership  Debit to Income  \\\n",
       "count  67463.000000   67463.000000    67463.000000     67463.000000   \n",
       "mean      58.173814      11.846258    80541.502522        23.299241   \n",
       "std        3.327441       3.718629    45029.120366         8.451824   \n",
       "min       36.000000       5.320006    14573.537170         0.675299   \n",
       "25%       58.000000       9.297147    51689.843335        16.756416   \n",
       "50%       59.000000      11.377696    69335.832680        22.656658   \n",
       "75%       59.000000      14.193533    94623.322785        30.048400   \n",
       "max       59.000000      27.182348   406561.536400        39.629862   \n",
       "\n",
       "       Delinquency - two years  Inquires - six months  ...  \\\n",
       "count             67463.000000           67463.000000  ...   \n",
       "mean                  0.327127               0.145754  ...   \n",
       "std                   0.800888               0.473291  ...   \n",
       "min                   0.000000               0.000000  ...   \n",
       "25%                   0.000000               0.000000  ...   \n",
       "50%                   0.000000               0.000000  ...   \n",
       "75%                   0.000000               0.000000  ...   \n",
       "max                   8.000000               5.000000  ...   \n",
       "\n",
       "       Total Received Late Fee    Recoveries  Collection Recovery Fee  \\\n",
       "count             67463.000000  67463.000000             67463.000000   \n",
       "mean                  1.143969     59.691578                 1.125141   \n",
       "std                   5.244365    357.026346                 3.489885   \n",
       "min                   0.000003      0.000036                 0.000036   \n",
       "25%                   0.021114      1.629818                 0.476259   \n",
       "50%                   0.043398      3.344524                 0.780141   \n",
       "75%                   0.071884      5.453727                 1.070566   \n",
       "max                  42.618882   4354.467419               166.833000   \n",
       "\n",
       "       Collection 12 months Medical  Last week Pay  Accounts Delinquent  \\\n",
       "count                  67463.000000   67463.000000              67463.0   \n",
       "mean                       0.021301      71.163260                  0.0   \n",
       "std                        0.144385      43.315845                  0.0   \n",
       "min                        0.000000       0.000000                  0.0   \n",
       "25%                        0.000000      35.000000                  0.0   \n",
       "50%                        0.000000      68.000000                  0.0   \n",
       "75%                        0.000000     105.000000                  0.0   \n",
       "max                        1.000000     161.000000                  0.0   \n",
       "\n",
       "       Total Collection Amount  Total Current Balance  \\\n",
       "count             67463.000000           6.746300e+04   \n",
       "mean                146.467990           1.595739e+05   \n",
       "std                 744.382233           1.390332e+05   \n",
       "min                   1.000000           6.170000e+02   \n",
       "25%                  24.000000           5.037900e+04   \n",
       "50%                  36.000000           1.183690e+05   \n",
       "75%                  46.000000           2.283750e+05   \n",
       "max               16421.000000           1.177412e+06   \n",
       "\n",
       "       Total Revolving Credit Limit   Loan Status  \n",
       "count                  67463.000000  67463.000000  \n",
       "mean                   23123.005544      0.092510  \n",
       "std                    20916.699999      0.289747  \n",
       "min                     1000.000000      0.000000  \n",
       "25%                     8155.500000      0.000000  \n",
       "50%                    16733.000000      0.000000  \n",
       "75%                    32146.500000      0.000000  \n",
       "max                   201169.000000      1.000000  \n",
       "\n",
       "[8 rows x 26 columns]"
      ]
     },
     "execution_count": 6,
     "metadata": {},
     "output_type": "execute_result"
    }
   ],
   "source": [
    "df_train_n.describe()"
   ]
  },
  {
   "cell_type": "code",
   "execution_count": 7,
   "metadata": {
    "colab": {
     "base_uri": "https://localhost:8080/"
    },
    "id": "gnMH9IePX2oR",
    "outputId": "fa995f0c-6a03-4277-94af-c5a96ffff851"
   },
   "outputs": [
    {
     "data": {
      "text/plain": [
       "Batch Enrolled          41\n",
       "Grade                    7\n",
       "Sub Grade               35\n",
       "Employment Duration      3\n",
       "Verification Status      3\n",
       "Payment Plan             1\n",
       "Loan Title             109\n",
       "Initial List Status      2\n",
       "Application Type         2\n",
       "dtype: int64"
      ]
     },
     "execution_count": 7,
     "metadata": {},
     "output_type": "execute_result"
    }
   ],
   "source": [
    "df_train_c.nunique()"
   ]
  },
  {
   "cell_type": "code",
   "execution_count": 8,
   "metadata": {
    "colab": {
     "base_uri": "https://localhost:8080/"
    },
    "id": "0EuXeL2GAt9g",
    "outputId": "6f1a0998-8569-4745-94d7-197a3281ea94"
   },
   "outputs": [
    {
     "data": {
      "text/plain": [
       "(67463, 13)"
      ]
     },
     "execution_count": 8,
     "metadata": {},
     "output_type": "execute_result"
    }
   ],
   "source": [
    "#We drop or encode features to avoid overfiting because of too many features\n",
    "\n",
    "#Remove ID because it's just a primary key\n",
    "#Remove Accounts Delinquent because it has only 1 unique value\n",
    "df_train_n = df_train_n.drop(['ID', 'Accounts Delinquent'], axis = 1)\n",
    "#Remove Payment Plan because it has only 1 unique value\n",
    "df_train_c = df_train_c.drop(['Payment Plan'], axis = 1)\n",
    "\n",
    "#Remove numerical features if they have low standard deviation because they won't make much difference\n",
    "for i in df_train_n.columns:\n",
    "  if i != 'Loan Status':\n",
    "    if df_train_n[i].std() <= 10:\n",
    "      df_train_n = df_train_n.drop([i], axis = 1)\n",
    "\n",
    "#Encode the categorical data with lots of unique values by its frequency. Replace it by its frequency\n",
    "for i in df_train_c.columns:\n",
    "  if df_train_c[i].nunique() >= 8:\n",
    "    f = df_train_c[i].value_counts() / len(df_train_c)\n",
    "    f = dict(f)\n",
    "    df_train_c[i] = df_train_c[i].replace(f) \n",
    "\n",
    "df_train_n.shape"
   ]
  },
  {
   "cell_type": "code",
   "execution_count": 9,
   "metadata": {
    "colab": {
     "base_uri": "https://localhost:8080/",
     "height": 752
    },
    "id": "DNC4DPsiuO6X",
    "outputId": "b1f2939c-1742-46f4-d3c0-0f539099aa47"
   },
   "outputs": [
    {
     "data": {
      "text/plain": [
       "Text(0.5, 1.0, 'Correlation of dataframe variables')"
      ]
     },
     "execution_count": 9,
     "metadata": {},
     "output_type": "execute_result"
    },
    {
     "data": {
      "image/png": "[encoded data removed]",
      "text/plain": [
       "<Figure size 1152x432 with 2 Axes>"
      ]
     },
     "metadata": {
      "needs_background": "light"
     },
     "output_type": "display_data"
    }
   ],
   "source": [
    "df_corr = df_train_n.iloc[:, 0:12]\n",
    "\n",
    "# use pairplot to check the independence of features\n",
    "plt.figure(figsize=(16,6))\n",
    "# define the mask to set the values in the upper triangle to True\n",
    "pltgraph = np.triu(np.ones_like(df_corr.corr(), dtype = np.bool))\n",
    "heatmap_graph = sns.heatmap(df_corr.corr(),mask=pltgraph, vmin=-1, vmax=1, fmt='.1f',annot=True)\n",
    "heatmap_graph.set_title('Correlation of dataframe variables', fontdict={'fontsize':15}, pad=15)"
   ]
  },
  {
   "cell_type": "code",
   "execution_count": 10,
   "metadata": {
    "colab": {
     "base_uri": "https://localhost:8080/",
     "height": 222
    },
    "id": "R_RusliFNAR1",
    "outputId": "17c44824-c2df-43c5-8d8b-035bdc36f3bb"
   },
   "outputs": [
    {
     "data": {
      "text/html": [
       "<div>\n",
       "<style scoped>\n",
       "    .dataframe tbody tr th:only-of-type {\n",
       "        vertical-align: middle;\n",
       "    }\n",
       "\n",
       "    .dataframe tbody tr th {\n",
       "        vertical-align: top;\n",
       "    }\n",
       "\n",
       "    .dataframe thead th {\n",
       "        text-align: right;\n",
       "    }\n",
       "</style>\n",
       "<table border=\"1\" class=\"dataframe\">\n",
       "  <thead>\n",
       "    <tr style=\"text-align: right;\">\n",
       "      <th></th>\n",
       "      <th>Loan Amount</th>\n",
       "      <th>Funded Amount</th>\n",
       "      <th>Funded Amount Investor</th>\n",
       "      <th>Home Ownership</th>\n",
       "      <th>Revolving Balance</th>\n",
       "      <th>Revolving Utilities</th>\n",
       "      <th>Total Received Interest</th>\n",
       "      <th>Recoveries</th>\n",
       "      <th>Last week Pay</th>\n",
       "      <th>Total Collection Amount</th>\n",
       "      <th>Total Current Balance</th>\n",
       "      <th>Total Revolving Credit Limit</th>\n",
       "    </tr>\n",
       "    <tr>\n",
       "      <th>Loan Status</th>\n",
       "      <th></th>\n",
       "      <th></th>\n",
       "      <th></th>\n",
       "      <th></th>\n",
       "      <th></th>\n",
       "      <th></th>\n",
       "      <th></th>\n",
       "      <th></th>\n",
       "      <th></th>\n",
       "      <th></th>\n",
       "      <th></th>\n",
       "      <th></th>\n",
       "    </tr>\n",
       "  </thead>\n",
       "  <tbody>\n",
       "    <tr>\n",
       "      <th>0</th>\n",
       "      <td>61222</td>\n",
       "      <td>61222</td>\n",
       "      <td>61222</td>\n",
       "      <td>61222</td>\n",
       "      <td>61222</td>\n",
       "      <td>61222</td>\n",
       "      <td>61222</td>\n",
       "      <td>61222</td>\n",
       "      <td>61222</td>\n",
       "      <td>61222</td>\n",
       "      <td>61222</td>\n",
       "      <td>61222</td>\n",
       "    </tr>\n",
       "    <tr>\n",
       "      <th>1</th>\n",
       "      <td>6241</td>\n",
       "      <td>6241</td>\n",
       "      <td>6241</td>\n",
       "      <td>6241</td>\n",
       "      <td>6241</td>\n",
       "      <td>6241</td>\n",
       "      <td>6241</td>\n",
       "      <td>6241</td>\n",
       "      <td>6241</td>\n",
       "      <td>6241</td>\n",
       "      <td>6241</td>\n",
       "      <td>6241</td>\n",
       "    </tr>\n",
       "  </tbody>\n",
       "</table>\n",
       "</div>"
      ],
      "text/plain": [
       "             Loan Amount  Funded Amount  Funded Amount Investor  \\\n",
       "Loan Status                                                       \n",
       "0                  61222          61222                   61222   \n",
       "1                   6241           6241                    6241   \n",
       "\n",
       "             Home Ownership  Revolving Balance  Revolving Utilities  \\\n",
       "Loan Status                                                           \n",
       "0                     61222              61222                61222   \n",
       "1                      6241               6241                 6241   \n",
       "\n",
       "             Total Received Interest  Recoveries  Last week Pay  \\\n",
       "Loan Status                                                       \n",
       "0                              61222       61222          61222   \n",
       "1                               6241        6241           6241   \n",
       "\n",
       "             Total Collection Amount  Total Current Balance  \\\n",
       "Loan Status                                                   \n",
       "0                              61222                  61222   \n",
       "1                               6241                   6241   \n",
       "\n",
       "             Total Revolving Credit Limit  \n",
       "Loan Status                                \n",
       "0                                   61222  \n",
       "1                                    6241  "
      ]
     },
     "execution_count": 10,
     "metadata": {},
     "output_type": "execute_result"
    }
   ],
   "source": [
    "df_train_n.groupby('Loan Status').count()"
   ]
  },
  {
   "cell_type": "code",
   "execution_count": 11,
   "metadata": {
    "colab": {
     "base_uri": "https://localhost:8080/"
    },
    "id": "jJBdNhcUNQTc",
    "outputId": "3117bc56-2b8b-4b21-f539-2569c1a02811"
   },
   "outputs": [
    {
     "data": {
      "text/plain": [
       "(12482, 13)"
      ]
     },
     "execution_count": 11,
     "metadata": {},
     "output_type": "execute_result"
    }
   ],
   "source": [
    "#Because this is a so unbalance dataset. There are 61222 rows has target label 0 and only 6241 rows has target label 1\n",
    "#We take part of the data and create a more balanced numerical dataset\n",
    "\n",
    "df_1 = df_train_n[df_train_n['Loan Status'] == 1]\n",
    "\n",
    "df_0 = df_train_n[df_train_n['Loan Status'] == 0]\n",
    "df_0 = df_0.sample(n = len(df_1), random_state = 1)\n",
    "\n",
    "#df_train_b is a more balanced numerical dataset\n",
    "df_train_b = pd.concat([df_0, df_1])\n",
    "df_train_b.shape"
   ]
  },
  {
   "cell_type": "code",
   "execution_count": 12,
   "metadata": {
    "id": "7DXacdLfVEtu"
   },
   "outputs": [],
   "source": [
    "#Create dummy variables for categorical data\n",
    "df_train_c = pd.get_dummies(df_train_c)\n",
    "\n",
    "#Split 70% of train set and 30% of test set\n",
    "x_train, x_test, y_train, y_test = train_test_split(df_train_b.iloc[:, 0:12], df_train_b.iloc[:, -1], \n",
    "                                                    test_size = 0.3, random_state = 1)\n",
    "train_index = x_train.index\n",
    "test_index = x_test.index\n",
    "\n",
    "# To standardize dependent variables\n",
    "sc_X = StandardScaler()\n",
    "x_train = sc_X.fit_transform(x_train)\n",
    "x_test = sc_X.transform(x_test)\n",
    "\n",
    "#Combine standardized numerical features and categorical features together\n",
    "x_train = pd.DataFrame(x_train, columns = df_corr.columns)\n",
    "x_train.index = train_index\n",
    "x_test = pd.DataFrame(x_test, columns = df_corr.columns)\n",
    "x_test.index = test_index\n",
    "\n",
    "#Join by index\n",
    "x_train = x_train.join(df_train_c)\n",
    "x_test = x_test.join(df_train_c)"
   ]
  },
  {
   "cell_type": "code",
   "execution_count": 13,
   "metadata": {
    "colab": {
     "base_uri": "https://localhost:8080/",
     "height": 472
    },
    "id": "7pelpp7clJZJ",
    "outputId": "0aaf988d-a1a8-496a-93b7-3085c7e08336"
   },
   "outputs": [
    {
     "data": {
      "image/png": "[encoded data removed]",
      "text/plain": [
       "<Figure size 432x288 with 1 Axes>"
      ]
     },
     "metadata": {
      "needs_background": "light"
     },
     "output_type": "display_data"
    }
   ],
   "source": [
    "#K-means\n",
    "#Plot SSE vs Number of Clusters to determine which K value we choose\n",
    "SSE = []\n",
    "k_list = range(1, 10)\n",
    "for k in k_list:\n",
    "  km = KMeans(n_clusters = k, n_init = 1, random_state = 1).fit(x_train)\n",
    "  predicted = km.predict(x_test)\n",
    "\n",
    "  sse = np.sum((y_test - predicted) ** 2)\n",
    "  SSE.append(sse)\n",
    "\n",
    "plt.plot(k_list, SSE)\n",
    "plt.xlabel('Number of Clusters')\n",
    "plt.ylabel('SSE')\n",
    "plt.title('SSE vs Number of Clusters')\n",
    "plt.show()"
   ]
  },
  {
   "cell_type": "code",
   "execution_count": 14,
   "metadata": {
    "id": "LiKPiJ4VZnIT"
   },
   "outputs": [],
   "source": [
    "#We choose k = 2\n",
    "km = KMeans(n_clusters = 2, n_init = 1, random_state = 1).fit(x_train)\n",
    "predicted = km.predict(x_test)"
   ]
  },
  {
   "cell_type": "code",
   "execution_count": 15,
   "metadata": {
    "colab": {
     "base_uri": "https://localhost:8080/",
     "height": 494
    },
    "id": "NoblaJnK68zU",
    "outputId": "069188d1-8db2-44cb-8b21-a73ae9ef1a08"
   },
   "outputs": [
    {
     "data": {
      "image/png": "[encoded data removed]",
      "text/plain": [
       "<Figure size 432x288 with 2 Axes>"
      ]
     },
     "metadata": {},
     "output_type": "display_data"
    }
   ],
   "source": [
    "# Calculate confusion matrix\n",
    "cm = confusion_matrix(y_test, predicted)\n",
    "\n",
    "# Plot confusion matrix\n",
    "sns.set(font_scale=1.4) # for label size\n",
    "sns.heatmap(cm, annot=True, annot_kws={\"size\": 16}, cmap='Blues', fmt='g')\n",
    "\n",
    "plt.title('Confusion Matrix')\n",
    "plt.xlabel('Predicted Labels')\n",
    "plt.ylabel('True Labels')\n",
    "plt.show()"
   ]
  },
  {
   "cell_type": "code",
   "execution_count": 16,
   "metadata": {
    "colab": {
     "base_uri": "https://localhost:8080/"
    },
    "id": "VnRUNqzF8kx7",
    "outputId": "04be70d0-cf68-46dd-b2df-5d477d173185"
   },
   "outputs": [
    {
     "name": "stdout",
     "output_type": "stream",
     "text": [
      "Precision: 0.48504784688995217\n",
      "Recall: 0.4405214557305812\n",
      "F1-score: 0.461713635069741\n"
     ]
    }
   ],
   "source": [
    "# Calculate precision\n",
    "precision = precision_score(y_test, predicted)\n",
    "print('Precision:', precision)\n",
    "\n",
    "# Calculate recall\n",
    "recall = recall_score(y_test, predicted)\n",
    "print('Recall:', recall)\n",
    "\n",
    "# Calculate F1-score\n",
    "f1 = f1_score(y_test, predicted)\n",
    "print('F1-score:', f1)"
   ]
  },
  {
   "cell_type": "code",
   "execution_count": 17,
   "metadata": {
    "colab": {
     "base_uri": "https://localhost:8080/",
     "height": 494
    },
    "id": "GVOsaFaP-N8q",
    "outputId": "a7b4b0ea-3f5f-4ed0-a94d-e45455c8ae5b"
   },
   "outputs": [
    {
     "data": {
      "image/png": "[encoded data removed]",
      "text/plain": [
       "<Figure size 432x288 with 1 Axes>"
      ]
     },
     "metadata": {},
     "output_type": "display_data"
    }
   ],
   "source": [
    "#Silhouette plot\n",
    "from sklearn.metrics import silhouette_samples, silhouette_score\n",
    "\n",
    "# Calculate the silhouette score for each data point\n",
    "labels = km.fit_predict(x_train)\n",
    "silhouette_avg = silhouette_score(x_train, labels)\n",
    "sample_silhouette_values = silhouette_samples(x_train, labels)\n",
    "\n",
    "# Create a vertical bar plot of the silhouette scores for each data point\n",
    "y_lower = 10\n",
    "n_clusters = 2\n",
    "for i in range(n_clusters):\n",
    "    # Aggregate the silhouette scores for all data points assigned to the i-th cluster\n",
    "    ith_cluster_silhouette_values = sample_silhouette_values[labels == i]\n",
    "    ith_cluster_silhouette_values.sort()\n",
    "    size_cluster_i = ith_cluster_silhouette_values.shape[0]\n",
    "    y_upper = y_lower + size_cluster_i\n",
    "\n",
    "    # Assign a color to the cluster\n",
    "    color = plt.cm.nipy_spectral(float(i) / n_clusters)\n",
    "\n",
    "    # Plot the silhouette scores for the data points in the i-th cluster\n",
    "    plt.fill_betweenx(np.arange(y_lower, y_upper), 0, ith_cluster_silhouette_values,\n",
    "                      facecolor=color, edgecolor=color, alpha=0.7)\n",
    "\n",
    "    # Label the silhouette plot with the cluster number\n",
    "    plt.text(-0.05, y_lower + 0.5 * size_cluster_i, str(i))\n",
    "\n",
    "    # Compute the new y_lower for next plot\n",
    "    y_lower = y_upper + 10\n",
    "\n",
    "# Add labels and title to the plot\n",
    "plt.axvline(x=silhouette_avg, color=\"red\", linestyle=\"--\")\n",
    "plt.xlabel(\"Silhouette Coefficient Values\")\n",
    "plt.yticks([])\n",
    "plt.title(\"Silhouette Plot (Cluster Label vs Silhouette Coefficient Values)\")\n",
    "plt.show()"
   ]
  },
  {
   "cell_type": "code",
   "execution_count": 18,
   "metadata": {
    "colab": {
     "base_uri": "https://localhost:8080/"
    },
    "id": "WPMJiK7yqrPE",
    "outputId": "da16c083-9bc9-442a-f184-b1ec74207bad"
   },
   "outputs": [
    {
     "name": "stdout",
     "output_type": "stream",
     "text": [
      "Best n_neighbors: 5\n"
     ]
    }
   ],
   "source": [
    "# Decide best K value\n",
    "n_neighbors = list(range(3,15))\n",
    "\n",
    "#Convert to dictionary\n",
    "hyperparameters = dict(n_neighbors=n_neighbors)\n",
    "#Create new KNN object\n",
    "knn = KNeighborsClassifier()\n",
    "\n",
    "#Use GridSearch\n",
    "from sklearn.model_selection import GridSearchCV\n",
    "best_model = GridSearchCV(knn, hyperparameters, cv=5, scoring = 'f1_macro').fit(x_test,y_test)\n",
    "\n",
    "#Print The value of best Hyperparameters\n",
    "print('Best n_neighbors:', best_model.best_estimator_.get_params()['n_neighbors'])"
   ]
  },
  {
   "cell_type": "code",
   "execution_count": 19,
   "metadata": {
    "id": "HmZprmxhrnnP"
   },
   "outputs": [],
   "source": [
    "# Set new model\n",
    "# k = 5\n",
    "knn= KNeighborsClassifier(n_neighbors=5).fit(x_train,y_train)\n",
    "\n",
    "# Predict\n",
    "y_pred =  knn.predict(x_test)"
   ]
  },
  {
   "cell_type": "code",
   "execution_count": 20,
   "metadata": {
    "colab": {
     "base_uri": "https://localhost:8080/",
     "height": 494
    },
    "id": "EPA3QSlKtPnq",
    "outputId": "fa3dba5d-8290-4d3c-c16f-44d75b52ae7b"
   },
   "outputs": [
    {
     "data": {
      "image/png": "[encoded data removed]",
      "text/plain": [
       "<Figure size 432x288 with 2 Axes>"
      ]
     },
     "metadata": {},
     "output_type": "display_data"
    }
   ],
   "source": [
    "# Calculate confusion matrix\n",
    "cm = confusion_matrix(y_test, y_pred)\n",
    "\n",
    "# Plot confusion matrix\n",
    "sns.set(font_scale=1.4) # for label size\n",
    "sns.heatmap(cm, annot=True, annot_kws={\"size\": 16}, cmap='Blues', fmt='g')\n",
    "\n",
    "plt.title('Confusion Matrix')\n",
    "plt.xlabel('Predicted Labels')\n",
    "plt.ylabel('True Labels')\n",
    "plt.show()"
   ]
  },
  {
   "cell_type": "code",
   "execution_count": 21,
   "metadata": {
    "colab": {
     "base_uri": "https://localhost:8080/"
    },
    "id": "h98ONm8DtnED",
    "outputId": "7e55a37b-48ff-45ca-cf50-eb626eef7db1"
   },
   "outputs": [
    {
     "name": "stdout",
     "output_type": "stream",
     "text": [
      "Precision: 0.5027412280701754\n",
      "Recall: 0.49809885931558934\n",
      "F1-score: 0.5004092769440655\n"
     ]
    }
   ],
   "source": [
    "# Calculate precision\n",
    "precision = precision_score(y_test, y_pred)\n",
    "print('Precision:', precision)\n",
    "\n",
    "# Calculate recall\n",
    "recall = recall_score(y_test, y_pred)\n",
    "print('Recall:', recall)\n",
    "\n",
    "# Calculate F1-score\n",
    "f1 = f1_score(y_test, y_pred)\n",
    "print('F1-score:', f1)"
   ]
  },
  {
   "cell_type": "code",
   "execution_count": 22,
   "metadata": {
    "colab": {
     "base_uri": "https://localhost:8080/",
     "height": 494
    },
    "id": "eho7EPrCt4T_",
    "outputId": "ca2ca62f-78e8-4c3b-a681-22971230d9a4"
   },
   "outputs": [
    {
     "data": {
      "image/png": "[encoded data removed]",
      "text/plain": [
       "<Figure size 432x288 with 1 Axes>"
      ]
     },
     "metadata": {},
     "output_type": "display_data"
    }
   ],
   "source": [
    "from sklearn.metrics import roc_curve, auc\n",
    "# ROC curve for model with optimized hyperparamters\n",
    "#Calculate y score\n",
    "y_proba = knn.predict_proba(x_test)\n",
    "y_scores = y_proba[:, 1]\n",
    "\n",
    "#Build ROC curve for KNN\n",
    "fpr, tpr, thresholds = roc_curve(y_test, y_scores)\n",
    "roc_auc = auc(fpr, tpr)\n",
    "\n",
    "# Plot the ROC curve\n",
    "plt.plot(fpr, tpr, label='ROC curve (area = %0.2f)' % roc_auc)\n",
    "plt.plot([0, 1], [0, 1], 'k--')\n",
    "plt.xlabel('False Positive Rate')\n",
    "plt.ylabel('True Positive Rate')\n",
    "plt.title('Receiver Operating Characteristic (ROC) Curve')\n",
    "plt.legend(loc=\"lower right\")\n",
    "plt.show()"
   ]
  }
 ],
 "metadata": {
  "colab": {
   "provenance": []
  },
  "kernelspec": {
   "display_name": "Python 3",
   "language": "python",
   "name": "python3"
  },
  "language_info": {
   "codemirror_mode": {
    "name": "ipython",
    "version": 3
   },
   "file_extension": ".py",
   "mimetype": "text/x-python",
   "name": "python",
   "nbconvert_exporter": "python",
   "pygments_lexer": "ipython3",
   "version": "3.8.8"
  }
 },
 "nbformat": 4,
 "nbformat_minor": 1
}
